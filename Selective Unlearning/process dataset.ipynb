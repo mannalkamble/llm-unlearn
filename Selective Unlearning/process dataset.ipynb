{
 "cells": [
  {
   "cell_type": "code",
   "execution_count": 1,
   "metadata": {
    "id": "bUG3Syo0vfhf"
   },
   "outputs": [],
   "source": [
    "huggingface_token = ''\n",
    "import os\n",
    "os.environ[\"HF_TOKEN\"] = str(huggingface_token)"
   ]
  },
  {
   "cell_type": "code",
   "execution_count": 7,
   "metadata": {
    "id": "yanNy_yluU9b"
   },
   "outputs": [],
   "source": [
    "class Args:\n",
    "  def __init__(self):\n",
    "    self.context_length = 512\n",
    "    self.model = \"meta-llama/Llama-2-7b-chat-hf\"\n",
    "    self.reinforced_model = \"./models/reinforced\"\n",
    "    self.dict_file = \"./data/dicts_new.npy\"\n",
    "    self.input_file = \"/scratch/mk8475/one_book/raw_data.txt\"\n",
    "    self.output_file =  \"mk8475/strac/data/generic_predictions.hf\"\n",
    "    self.bootstrap_coef = 5\n",
    "    self.device = \"cuda:0\""
   ]
  },
  {
   "cell_type": "code",
   "execution_count": 9,
   "metadata": {},
   "outputs": [
    {
     "data": {
      "application/vnd.jupyter.widget-view+json": {
       "model_id": "f5e879ececac472fb30d4ee56ff744be",
       "version_major": 2,
       "version_minor": 0
      },
      "text/plain": [
       "Saving the dataset (0/1 shards):   0%|          | 0/229 [00:00<?, ? examples/s]"
      ]
     },
     "metadata": {},
     "output_type": "display_data"
    }
   ],
   "source": [
    "from transformers import AutoTokenizer\n",
    "from datasets import Dataset\n",
    "\n",
    "args = Args()  # Make sure Args is properly defined elsewhere\n",
    "custom_cache_dir = \"cache\" \n",
    "tokenizer = AutoTokenizer.from_pretrained(args.model, cache_dir=custom_cache_dir)\n",
    "CHUNK_SIZE = 10000\n",
    "IGNORE_TOKEN_ID = -100  # Assuming you want to use the pad token as the ignore token\n",
    "\n",
    "def read_file_into_chunks_and_prepare_labels(filename, context_length):\n",
    "    # Initialize lists to store input_ids and labels for each chunk\n",
    "    input_ids_list = []\n",
    "    labels_list = []\n",
    "\n",
    "    with open(filename, 'r', encoding='utf-8') as file:\n",
    "        while True:\n",
    "            chunk = file.read(CHUNK_SIZE)\n",
    "            if not chunk:\n",
    "                break\n",
    "\n",
    "            # Tokenize the chunk\n",
    "            chunk_tokens = tokenizer.encode(chunk, add_special_tokens=True)\n",
    "\n",
    "            # Create overlapping blocks of tokens for input_ids and labels\n",
    "            for i in range(0, len(chunk_tokens) - context_length + 1, context_length):\n",
    "                input_ids = chunk_tokens[i:i+context_length]\n",
    "                # Prepare labels by shifting them to the right\n",
    "                labels = [IGNORE_TOKEN_ID] + chunk_tokens[i:i+context_length-1]\n",
    "\n",
    "                input_ids_list.append(input_ids)\n",
    "                labels_list.append(labels)\n",
    "\n",
    "    return input_ids_list, labels_list\n",
    "\n",
    "input_ids, labels = read_file_into_chunks_and_prepare_labels(args.input_file, args.context_length)\n",
    "\n",
    "# Preparing the dataset for saving\n",
    "dataset = Dataset.from_dict({\n",
    "    'input_ids': input_ids,\n",
    "    'labels': labels,\n",
    "})\n",
    "\n",
    "# Save the dataset to disk\n",
    "dataset.save_to_disk(\"/scratch/mk8475/one_book/raw_text.hf\")\n"
   ]
  },
  {
   "cell_type": "code",
   "execution_count": null,
   "metadata": {
    "colab": {
     "base_uri": "https://localhost:8080/",
     "height": 49,
     "referenced_widgets": [
      "9088ce8d0b4447e9adeaab75644517e0",
      "7948521ed0d8463cabf0e96287379b87",
      "2397813ee30049e5b49c61ee95122082",
      "0765c0ca85f3442bb3ea4df7f71a8638",
      "a30f25c699b240e0a30db7deb6fbc7c7",
      "bb63e058494948b3bf79ee3947966791",
      "f5b38bdf649d4269b59d256e2b6ff074",
      "70454e690bb348c4b31ac31911f227d7",
      "142122635f4943658a3283eb8bb88dee",
      "56689c515e0f486fab261a692baaa292",
      "6c3845a9902e462c9593f9101776ffe8"
     ]
    },
    "id": "JIg9F7BNvQmE",
    "outputId": "00d1fc2c-3f58-4906-8035-e3b39d452ee8"
   },
   "outputs": [],
   "source": [
    "from datasets import Dataset\n",
    "\n",
    "dataset = Dataset.from_dict(chunks)\n",
    "\n",
    "# Main processing of dataset\n",
    "dataset.save_to_disk(f\"/LLM/raw_text.hf\")\n"
   ]
  },
  {
   "cell_type": "code",
   "execution_count": 10,
   "metadata": {
    "scrolled": true
   },
   "outputs": [
    {
     "data": {
      "text/plain": [
       "Dataset({\n",
       "    features: ['input_ids', 'labels'],\n",
       "    num_rows: 229\n",
       "})"
      ]
     },
     "execution_count": 10,
     "metadata": {},
     "output_type": "execute_result"
    }
   ],
   "source": [
    "dataset"
   ]
  },
  {
   "cell_type": "code",
   "execution_count": null,
   "metadata": {
    "id": "G5pHFqadBu1T"
   },
   "outputs": [],
   "source": []
  }
 ],
 "metadata": {
  "accelerator": "TPU",
  "colab": {
   "gpuType": "V28",
   "machine_shape": "hm",
   "provenance": []
  },
  "kernelspec": {
   "display_name": "my_env",
   "language": "python",
   "name": "my_env"
  },
  "language_info": {
   "codemirror_mode": {
    "name": "ipython",
    "version": 3
   },
   "file_extension": ".py",
   "mimetype": "text/x-python",
   "name": "python",
   "nbconvert_exporter": "python",
   "pygments_lexer": "ipython3",
   "version": "3.12.1"
  },
  "widgets": {
   "application/vnd.jupyter.widget-state+json": {
    "0765c0ca85f3442bb3ea4df7f71a8638": {
     "model_module": "@jupyter-widgets/controls",
     "model_module_version": "1.5.0",
     "model_name": "HTMLModel",
     "state": {
      "_dom_classes": [],
      "_model_module": "@jupyter-widgets/controls",
      "_model_module_version": "1.5.0",
      "_model_name": "HTMLModel",
      "_view_count": null,
      "_view_module": "@jupyter-widgets/controls",
      "_view_module_version": "1.5.0",
      "_view_name": "HTMLView",
      "description": "",
      "description_tooltip": null,
      "layout": "IPY_MODEL_56689c515e0f486fab261a692baaa292",
      "placeholder": "​",
      "style": "IPY_MODEL_6c3845a9902e462c9593f9101776ffe8",
      "value": " 4957/4957 [00:00&lt;00:00, 152121.20 examples/s]"
     }
    },
    "142122635f4943658a3283eb8bb88dee": {
     "model_module": "@jupyter-widgets/controls",
     "model_module_version": "1.5.0",
     "model_name": "ProgressStyleModel",
     "state": {
      "_model_module": "@jupyter-widgets/controls",
      "_model_module_version": "1.5.0",
      "_model_name": "ProgressStyleModel",
      "_view_count": null,
      "_view_module": "@jupyter-widgets/base",
      "_view_module_version": "1.2.0",
      "_view_name": "StyleView",
      "bar_color": null,
      "description_width": ""
     }
    },
    "2397813ee30049e5b49c61ee95122082": {
     "model_module": "@jupyter-widgets/controls",
     "model_module_version": "1.5.0",
     "model_name": "FloatProgressModel",
     "state": {
      "_dom_classes": [],
      "_model_module": "@jupyter-widgets/controls",
      "_model_module_version": "1.5.0",
      "_model_name": "FloatProgressModel",
      "_view_count": null,
      "_view_module": "@jupyter-widgets/controls",
      "_view_module_version": "1.5.0",
      "_view_name": "ProgressView",
      "bar_style": "success",
      "description": "",
      "description_tooltip": null,
      "layout": "IPY_MODEL_70454e690bb348c4b31ac31911f227d7",
      "max": 4957,
      "min": 0,
      "orientation": "horizontal",
      "style": "IPY_MODEL_142122635f4943658a3283eb8bb88dee",
      "value": 4957
     }
    },
    "56689c515e0f486fab261a692baaa292": {
     "model_module": "@jupyter-widgets/base",
     "model_module_version": "1.2.0",
     "model_name": "LayoutModel",
     "state": {
      "_model_module": "@jupyter-widgets/base",
      "_model_module_version": "1.2.0",
      "_model_name": "LayoutModel",
      "_view_count": null,
      "_view_module": "@jupyter-widgets/base",
      "_view_module_version": "1.2.0",
      "_view_name": "LayoutView",
      "align_content": null,
      "align_items": null,
      "align_self": null,
      "border": null,
      "bottom": null,
      "display": null,
      "flex": null,
      "flex_flow": null,
      "grid_area": null,
      "grid_auto_columns": null,
      "grid_auto_flow": null,
      "grid_auto_rows": null,
      "grid_column": null,
      "grid_gap": null,
      "grid_row": null,
      "grid_template_areas": null,
      "grid_template_columns": null,
      "grid_template_rows": null,
      "height": null,
      "justify_content": null,
      "justify_items": null,
      "left": null,
      "margin": null,
      "max_height": null,
      "max_width": null,
      "min_height": null,
      "min_width": null,
      "object_fit": null,
      "object_position": null,
      "order": null,
      "overflow": null,
      "overflow_x": null,
      "overflow_y": null,
      "padding": null,
      "right": null,
      "top": null,
      "visibility": null,
      "width": null
     }
    },
    "6c3845a9902e462c9593f9101776ffe8": {
     "model_module": "@jupyter-widgets/controls",
     "model_module_version": "1.5.0",
     "model_name": "DescriptionStyleModel",
     "state": {
      "_model_module": "@jupyter-widgets/controls",
      "_model_module_version": "1.5.0",
      "_model_name": "DescriptionStyleModel",
      "_view_count": null,
      "_view_module": "@jupyter-widgets/base",
      "_view_module_version": "1.2.0",
      "_view_name": "StyleView",
      "description_width": ""
     }
    },
    "70454e690bb348c4b31ac31911f227d7": {
     "model_module": "@jupyter-widgets/base",
     "model_module_version": "1.2.0",
     "model_name": "LayoutModel",
     "state": {
      "_model_module": "@jupyter-widgets/base",
      "_model_module_version": "1.2.0",
      "_model_name": "LayoutModel",
      "_view_count": null,
      "_view_module": "@jupyter-widgets/base",
      "_view_module_version": "1.2.0",
      "_view_name": "LayoutView",
      "align_content": null,
      "align_items": null,
      "align_self": null,
      "border": null,
      "bottom": null,
      "display": null,
      "flex": null,
      "flex_flow": null,
      "grid_area": null,
      "grid_auto_columns": null,
      "grid_auto_flow": null,
      "grid_auto_rows": null,
      "grid_column": null,
      "grid_gap": null,
      "grid_row": null,
      "grid_template_areas": null,
      "grid_template_columns": null,
      "grid_template_rows": null,
      "height": null,
      "justify_content": null,
      "justify_items": null,
      "left": null,
      "margin": null,
      "max_height": null,
      "max_width": null,
      "min_height": null,
      "min_width": null,
      "object_fit": null,
      "object_position": null,
      "order": null,
      "overflow": null,
      "overflow_x": null,
      "overflow_y": null,
      "padding": null,
      "right": null,
      "top": null,
      "visibility": null,
      "width": null
     }
    },
    "7948521ed0d8463cabf0e96287379b87": {
     "model_module": "@jupyter-widgets/controls",
     "model_module_version": "1.5.0",
     "model_name": "HTMLModel",
     "state": {
      "_dom_classes": [],
      "_model_module": "@jupyter-widgets/controls",
      "_model_module_version": "1.5.0",
      "_model_name": "HTMLModel",
      "_view_count": null,
      "_view_module": "@jupyter-widgets/controls",
      "_view_module_version": "1.5.0",
      "_view_name": "HTMLView",
      "description": "",
      "description_tooltip": null,
      "layout": "IPY_MODEL_bb63e058494948b3bf79ee3947966791",
      "placeholder": "​",
      "style": "IPY_MODEL_f5b38bdf649d4269b59d256e2b6ff074",
      "value": "Saving the dataset (1/1 shards): 100%"
     }
    },
    "9088ce8d0b4447e9adeaab75644517e0": {
     "model_module": "@jupyter-widgets/controls",
     "model_module_version": "1.5.0",
     "model_name": "HBoxModel",
     "state": {
      "_dom_classes": [],
      "_model_module": "@jupyter-widgets/controls",
      "_model_module_version": "1.5.0",
      "_model_name": "HBoxModel",
      "_view_count": null,
      "_view_module": "@jupyter-widgets/controls",
      "_view_module_version": "1.5.0",
      "_view_name": "HBoxView",
      "box_style": "",
      "children": [
       "IPY_MODEL_7948521ed0d8463cabf0e96287379b87",
       "IPY_MODEL_2397813ee30049e5b49c61ee95122082",
       "IPY_MODEL_0765c0ca85f3442bb3ea4df7f71a8638"
      ],
      "layout": "IPY_MODEL_a30f25c699b240e0a30db7deb6fbc7c7"
     }
    },
    "a30f25c699b240e0a30db7deb6fbc7c7": {
     "model_module": "@jupyter-widgets/base",
     "model_module_version": "1.2.0",
     "model_name": "LayoutModel",
     "state": {
      "_model_module": "@jupyter-widgets/base",
      "_model_module_version": "1.2.0",
      "_model_name": "LayoutModel",
      "_view_count": null,
      "_view_module": "@jupyter-widgets/base",
      "_view_module_version": "1.2.0",
      "_view_name": "LayoutView",
      "align_content": null,
      "align_items": null,
      "align_self": null,
      "border": null,
      "bottom": null,
      "display": null,
      "flex": null,
      "flex_flow": null,
      "grid_area": null,
      "grid_auto_columns": null,
      "grid_auto_flow": null,
      "grid_auto_rows": null,
      "grid_column": null,
      "grid_gap": null,
      "grid_row": null,
      "grid_template_areas": null,
      "grid_template_columns": null,
      "grid_template_rows": null,
      "height": null,
      "justify_content": null,
      "justify_items": null,
      "left": null,
      "margin": null,
      "max_height": null,
      "max_width": null,
      "min_height": null,
      "min_width": null,
      "object_fit": null,
      "object_position": null,
      "order": null,
      "overflow": null,
      "overflow_x": null,
      "overflow_y": null,
      "padding": null,
      "right": null,
      "top": null,
      "visibility": null,
      "width": null
     }
    },
    "bb63e058494948b3bf79ee3947966791": {
     "model_module": "@jupyter-widgets/base",
     "model_module_version": "1.2.0",
     "model_name": "LayoutModel",
     "state": {
      "_model_module": "@jupyter-widgets/base",
      "_model_module_version": "1.2.0",
      "_model_name": "LayoutModel",
      "_view_count": null,
      "_view_module": "@jupyter-widgets/base",
      "_view_module_version": "1.2.0",
      "_view_name": "LayoutView",
      "align_content": null,
      "align_items": null,
      "align_self": null,
      "border": null,
      "bottom": null,
      "display": null,
      "flex": null,
      "flex_flow": null,
      "grid_area": null,
      "grid_auto_columns": null,
      "grid_auto_flow": null,
      "grid_auto_rows": null,
      "grid_column": null,
      "grid_gap": null,
      "grid_row": null,
      "grid_template_areas": null,
      "grid_template_columns": null,
      "grid_template_rows": null,
      "height": null,
      "justify_content": null,
      "justify_items": null,
      "left": null,
      "margin": null,
      "max_height": null,
      "max_width": null,
      "min_height": null,
      "min_width": null,
      "object_fit": null,
      "object_position": null,
      "order": null,
      "overflow": null,
      "overflow_x": null,
      "overflow_y": null,
      "padding": null,
      "right": null,
      "top": null,
      "visibility": null,
      "width": null
     }
    },
    "f5b38bdf649d4269b59d256e2b6ff074": {
     "model_module": "@jupyter-widgets/controls",
     "model_module_version": "1.5.0",
     "model_name": "DescriptionStyleModel",
     "state": {
      "_model_module": "@jupyter-widgets/controls",
      "_model_module_version": "1.5.0",
      "_model_name": "DescriptionStyleModel",
      "_view_count": null,
      "_view_module": "@jupyter-widgets/base",
      "_view_module_version": "1.2.0",
      "_view_name": "StyleView",
      "description_width": ""
     }
    }
   }
  }
 },
 "nbformat": 4,
 "nbformat_minor": 4
}
